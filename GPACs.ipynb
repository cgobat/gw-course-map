{
 "cells": [
  {
   "cell_type": "code",
   "execution_count": 1,
   "metadata": {},
   "outputs": [],
   "source": [
    "import requests, json\n",
    "from bs4 import BeautifulSoup as bs\n",
    "from pprint import pprint"
   ]
  },
  {
   "cell_type": "code",
   "execution_count": 2,
   "metadata": {},
   "outputs": [],
   "source": [
    "# Retrieve info from web\n",
    "page = requests.get('https://advising.columbian.gwu.edu/general-education-courses')\n",
    "soup = bs(page.content, 'html.parser') # parse the HTML\n",
    "main_content = soup.find('div',{\"id\":\"main_content\"})"
   ]
  },
  {
   "cell_type": "code",
   "execution_count": 3,
   "metadata": {},
   "outputs": [],
   "source": [
    "# Generate a dictionary of GPAC categories and the courses that fall under them. Basically just converting\n",
    "# the web data into a usable format. Bonus points if you can understand my annoyingly Pythonic syntax.\n",
    "gpac_dict = dict(zip([option.get_text().split(\": \")[1] for option in main_content.find('select',{\"class\":\"quick-dropdown form-select\"}).find_all('option')],\n",
    "    [[course.get_text().replace('\\xa0',' ') for course in category.find_all('li')] for category in main_content.find_all('div',{\"class\":\"node-content clearfix\"})]))\n",
    "#pprint(gpac_dict)"
   ]
  },
  {
   "cell_type": "code",
   "execution_count": 4,
   "metadata": {},
   "outputs": [],
   "source": [
    "# Pull out a plain, raw list of all GPAC-applicable courses\n",
    "gpac_courses = []\n",
    "for category in gpac_dict:\n",
    "    for course in gpac_dict[category]:\n",
    "        gpac_courses.append(course) #(str(course.split()[0])+\" \"+str(course.split()[1][:4]))\n",
    "#pprint(gpac_courses)"
   ]
  },
  {
   "cell_type": "code",
   "execution_count": 5,
   "metadata": {},
   "outputs": [],
   "source": [
    "# Invert the dict so it's in terms of courses rather than categories\n",
    "lookup = {}\n",
    "for course in gpac_courses:\n",
    "    applicable_categories = []\n",
    "    for category in gpac_dict:\n",
    "        if course in gpac_dict[category]:\n",
    "            applicable_categories.append(category)\n",
    "    lookup[course] = applicable_categories\n",
    "#pprint(lookup)"
   ]
  },
  {
   "cell_type": "code",
   "execution_count": 6,
   "metadata": {},
   "outputs": [],
   "source": [
    "# Filter for courses that apply to more than one GPAC category\n",
    "multicourses = {}\n",
    "for course in lookup:\n",
    "    if len(lookup[course]) >= 2:\n",
    "        multicourses[str(course.split()[0])+\" \"+str(course.split()[1][:4])] = lookup[course]\n",
    "#pprint(multicourses)"
   ]
  },
  {
   "cell_type": "code",
   "execution_count": 7,
   "metadata": {},
   "outputs": [],
   "source": [
    "# Output/save to a readable, distributable file\n",
    "jsondata = json.dumps(multicourses, sort_keys=True, indent=2)\n",
    "with open('multi_GPACs.json','w+') as file:\n",
    "    file.write(jsondata)"
   ]
  },
  {
   "cell_type": "code",
   "execution_count": null,
   "metadata": {},
   "outputs": [],
   "source": []
  }
 ],
 "metadata": {
  "kernelspec": {
   "display_name": "Python 3",
   "language": "python",
   "name": "python3"
  },
  "language_info": {
   "codemirror_mode": {
    "name": "ipython",
    "version": 3
   },
   "file_extension": ".py",
   "mimetype": "text/x-python",
   "name": "python",
   "nbconvert_exporter": "python",
   "pygments_lexer": "ipython3",
   "version": "3.6.6"
  }
 },
 "nbformat": 4,
 "nbformat_minor": 2
}
